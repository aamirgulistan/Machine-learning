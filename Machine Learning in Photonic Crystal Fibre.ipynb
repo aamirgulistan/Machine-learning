{
 "cells": [
  {
   "cell_type": "markdown",
   "metadata": {},
   "source": [
    "# Machine learning approach for computing optical properties of a photonic crystal fiber"
   ]
  },
  {
   "cell_type": "raw",
   "metadata": {},
   "source": [
    "# This repo is used to obtain results for a Journal paper \"Machine learning approach for computing optical properties of a photonic crystal fiber\""
   ]
  },
  {
   "cell_type": "markdown",
   "metadata": {},
   "source": [
    "Multilayer perceptron has been implemented using PyTorch framework to compute various optical properties (effective index, effective mode area, dispersion, and confinement loss) of a photonic crsytal fiber (PCF).\n",
    "\n",
    "Python3 packages given in start of file \"pcf_modeSoln_pytorch_1.py\" can be installed after installing Anaconda version > 3 OR may be installed from \"requirements.txt\". You can try requirements.txt, bit it might create issue when installing \"Torch\" or other packages depending on the PC. I recommend to install individual packages, as required.\n",
    "\n",
    "Data file \"pcf_modeSoln_data_1.xlsx\" is for training the model and \"pcf_modeSoln_data_manual_1.xlsx\" is for testing the model.\n",
    "\n",
    "One previously saved model weights file \"checkpoint_5000.pth\" is also provided. Main code file (pcf_modeSoln_pytorch_1.py) needs to be changed at respective position, if you donot want to use this already saved weights file."
   ]
  },
  {
   "cell_type": "raw",
   "metadata": {},
   "source": []
  },
  {
   "cell_type": "code",
   "execution_count": null,
   "metadata": {},
   "outputs": [],
   "source": []
  }
 ],
 "metadata": {
  "kernelspec": {
   "display_name": "Python 3",
   "language": "python",
   "name": "python3"
  },
  "language_info": {
   "codemirror_mode": {
    "name": "ipython",
    "version": 3
   },
   "file_extension": ".py",
   "mimetype": "text/x-python",
   "name": "python",
   "nbconvert_exporter": "python",
   "pygments_lexer": "ipython3",
   "version": "3.7.4"
  }
 },
 "nbformat": 4,
 "nbformat_minor": 2
}
